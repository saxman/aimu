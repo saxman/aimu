{
 "cells": [
  {
   "cell_type": "markdown",
   "id": "conversation-notebook-title",
   "metadata": {},
   "source": [
    "# 04 - Conversation Memory\n",
    "\n",
    "Demonstrate various usage scenarios for the AIMU ConversationManager class for persistent chat history."
   ]
  },
  {
   "cell_type": "markdown",
   "id": "section-a-header",
   "metadata": {},
   "source": [
    "## A - Basic Conversation Manager Setup\n",
    "\n",
    "The ConversationManager class provides persistent storage for chat conversations using TinyDB. It automatically handles conversation creation, message storage, and timestamping."
   ]
  },
  {
   "cell_type": "code",
   "execution_count": null,
   "id": "import-memory",
   "metadata": {},
   "outputs": [],
   "source": [
    "from aimu.memory import ConversationManager\n",
    "import tempfile\n",
    "import os\n",
    "\n",
    "# Create a temporary database file for this example\n",
    "temp_db = tempfile.NamedTemporaryFile(suffix=\".json\", delete=False)\n",
    "temp_db.close()\n",
    "\n",
    "# Initialize a new conversation manager\n",
    "conv_manager = ConversationManager(db_path=temp_db.name)\n",
    "\n",
    "print(f\"Created conversation manager with database: {temp_db.name}\")\n",
    "print(f\"Initial messages: {len(conv_manager.messages)}\")"
   ]
  },
  {
   "cell_type": "markdown",
   "id": "section-b-header",
   "metadata": {},
   "source": [
    "## B - Adding Messages to Conversation\n",
    "\n",
    "Messages are stored as dictionaries with role and content. The ConversationManager automatically adds timestamps when updating conversations."
   ]
  },
  {
   "cell_type": "code",
   "execution_count": null,
   "id": "add-messages",
   "metadata": {},
   "outputs": [],
   "source": [
    "# Create initial messages for a conversation\n",
    "initial_messages = [\n",
    "    {\"role\": \"user\", \"content\": \"Hello, can you help me with Python programming?\"},\n",
    "    {\n",
    "        \"role\": \"assistant\",\n",
    "        \"content\": \"Of course! I'd be happy to help you with Python programming. What specific topic would you like to explore?\",\n",
    "    },\n",
    "]\n",
    "\n",
    "# Update the conversation with these messages\n",
    "conv_manager.update_conversation(initial_messages)\n",
    "\n",
    "print(f\"Added {len(initial_messages)} messages to the conversation\")\n",
    "print(f\"Total messages: {len(conv_manager.messages)}\")\n",
    "print(\"\\nCurrent messages:\")\n",
    "for i, msg in enumerate(conv_manager.messages):\n",
    "    print(f\"  {i + 1}. {msg['role']}: {msg['content'][:50]}...\")\n",
    "    print(f\"     Timestamp: {msg.get('timestamp', 'N/A')}\")"
   ]
  },
  {
   "cell_type": "markdown",
   "id": "section-c-header",
   "metadata": {},
   "source": [
    "## C - Continuing a Conversation\n",
    "\n",
    "You can continue adding messages to an existing conversation. The manager tracks which messages are new and adds timestamps accordingly."
   ]
  },
  {
   "cell_type": "code",
   "execution_count": null,
   "id": "continue-conversation",
   "metadata": {},
   "outputs": [],
   "source": [
    "import time\n",
    "\n",
    "# Get current messages and add more\n",
    "current_messages = conv_manager.messages\n",
    "new_messages = current_messages + [\n",
    "    {\"role\": \"user\", \"content\": \"I want to learn about list comprehensions.\"},\n",
    "    {\n",
    "        \"role\": \"assistant\",\n",
    "        \"content\": \"List comprehensions are a concise way to create lists in Python. Here's a basic example: [x**2 for x in range(5)] creates [0, 1, 4, 9, 16].\",\n",
    "    },\n",
    "]\n",
    "\n",
    "# Small delay to show timestamp difference\n",
    "time.sleep(0.1)\n",
    "\n",
    "# Update with the extended conversation\n",
    "conv_manager.update_conversation(new_messages)\n",
    "\n",
    "print(f\"Extended conversation to {len(conv_manager.messages)} messages\")\n",
    "print(\"\\nAll messages with timestamps:\")\n",
    "for i, msg in enumerate(conv_manager.messages):\n",
    "    print(f\"  {i + 1}. [{msg.get('timestamp', 'N/A')}] {msg['role']}: {msg['content'][:60]}...\")"
   ]
  },
  {
   "cell_type": "markdown",
   "id": "section-d-header",
   "metadata": {},
   "source": [
    "## D - Working with Multiple Conversations\n",
    "\n",
    "You can create multiple conversations by creating new ConversationManager instances or by explicitly starting new conversations."
   ]
  },
  {
   "cell_type": "code",
   "execution_count": null,
   "id": "multiple-conversations",
   "metadata": {},
   "outputs": [],
   "source": [
    "# Start a new conversation in the same manager\n",
    "new_doc_id, new_messages = conv_manager.create_new_conversation()\n",
    "print(f\"Created new conversation with ID: {new_doc_id}\")\n",
    "print(f\"New conversation messages: {len(new_messages)}\")\n",
    "\n",
    "# Note: The current manager is still using the original conversation\n",
    "print(f\"Current manager still has: {len(conv_manager.messages)} messages\")\n",
    "\n",
    "# Create a second manager for a different topic\n",
    "temp_db2 = tempfile.NamedTemporaryFile(suffix=\".json\", delete=False)\n",
    "temp_db2.close()\n",
    "\n",
    "conv_manager2 = ConversationManager(db_path=temp_db2.name)\n",
    "\n",
    "# Add different content to the second conversation\n",
    "math_messages = [\n",
    "    {\"role\": \"user\", \"content\": \"Can you help me with calculus?\"},\n",
    "    {\n",
    "        \"role\": \"assistant\",\n",
    "        \"content\": \"Absolutely! Calculus deals with rates of change and areas under curves. What specific topic in calculus would you like to explore?\",\n",
    "    },\n",
    "]\n",
    "\n",
    "conv_manager2.update_conversation(math_messages)\n",
    "\n",
    "print(f\"\\nSecond conversation has {len(conv_manager2.messages)} messages\")\n",
    "print(\"Second conversation content:\")\n",
    "for msg in conv_manager2.messages:\n",
    "    print(f\"  {msg['role']}: {msg['content'][:50]}...\")"
   ]
  },
  {
   "cell_type": "markdown",
   "id": "section-e-header",
   "metadata": {},
   "source": [
    "## E - Resuming Previous Conversations\n",
    "\n",
    "You can resume the last conversation by setting `use_last_conversation=True` when initializing the ConversationManager."
   ]
  },
  {
   "cell_type": "code",
   "execution_count": null,
   "id": "resume-conversation",
   "metadata": {},
   "outputs": [],
   "source": [
    "# Close the first manager\n",
    "conv_manager.close()\n",
    "\n",
    "# Create a new manager that resumes the last conversation\n",
    "resumed_manager = ConversationManager(db_path=temp_db.name, use_last_conversation=True)\n",
    "\n",
    "print(f\"Resumed conversation with {len(resumed_manager.messages)} messages\")\n",
    "print(\"\\nResumed conversation content:\")\n",
    "for i, msg in enumerate(resumed_manager.messages):\n",
    "    print(f\"  {i + 1}. {msg['role']}: {msg['content'][:60]}...\")\n",
    "\n",
    "# Continue the resumed conversation\n",
    "continued_messages = resumed_manager.messages + [\n",
    "    {\"role\": \"user\", \"content\": \"Can you show me more advanced list comprehension examples?\"},\n",
    "    {\n",
    "        \"role\": \"assistant\",\n",
    "        \"content\": \"Sure! Here are some advanced examples:\\n- Nested: [[x*y for x in range(3)] for y in range(2)]\\n- Conditional: [x for x in range(10) if x % 2 == 0]\",\n",
    "    },\n",
    "]\n",
    "\n",
    "resumed_manager.update_conversation(continued_messages)\n",
    "print(f\"\\nContinued conversation now has {len(resumed_manager.messages)} messages\")"
   ]
  },
  {
   "cell_type": "markdown",
   "id": "section-f-header",
   "metadata": {},
   "source": [
    "## F - Message Properties and Structure\n",
    "\n",
    "Messages returned by the ConversationManager are copies, so you can safely manipulate them without affecting the stored conversation."
   ]
  },
  {
   "cell_type": "code",
   "execution_count": null,
   "id": "message-properties",
   "metadata": {},
   "outputs": [],
   "source": [
    "# Get messages (returns a copy)\n",
    "messages_copy = resumed_manager.messages\n",
    "\n",
    "print(f\"Retrieved {len(messages_copy)} messages\")\n",
    "print(\"\\nMessage structure analysis:\")\n",
    "\n",
    "for i, msg in enumerate(messages_copy[:3]):  # Show first 3 messages\n",
    "    print(f\"\\nMessage {i + 1}:\")\n",
    "    print(f\"  Keys: {list(msg.keys())}\")\n",
    "    print(f\"  Role: {msg['role']}\")\n",
    "    print(f\"  Content length: {len(msg['content'])} characters\")\n",
    "    print(f\"  Has timestamp: {'timestamp' in msg}\")\n",
    "    if \"timestamp\" in msg:\n",
    "        print(f\"  Timestamp: {msg['timestamp']}\")\n",
    "\n",
    "# Modify the copy - this won't affect the stored conversation\n",
    "messages_copy[0][\"content\"] = \"Modified content\"\n",
    "print(f\"\\nModified copy, but original remains unchanged:\")\n",
    "print(f\"Copy first message: {messages_copy[0]['content'][:20]}...\")\n",
    "print(f\"Original first message: {resumed_manager.messages[0]['content'][:20]}...\")"
   ]
  },
  {
   "cell_type": "markdown",
   "id": "section-g-header",
   "metadata": {},
   "source": [
    "## G - Integration with Model Clients\n",
    "\n",
    "The ConversationManager can be integrated with model clients to automatically persist chat history."
   ]
  },
  {
   "cell_type": "code",
   "execution_count": null,
   "id": "integration-example",
   "metadata": {},
   "outputs": [],
   "source": [
    "# Simulate a model client integration pattern\n",
    "class SimpleModelClient:\n",
    "    def __init__(self, conversation_manager):\n",
    "        self.conv_manager = conversation_manager\n",
    "\n",
    "    def chat(self, user_message):\n",
    "        # Simulate model response\n",
    "        responses = {\n",
    "            \"hello\": \"Hello! How can I help you today?\",\n",
    "            \"python\": \"Python is a versatile programming language. What would you like to know?\",\n",
    "            \"goodbye\": \"Goodbye! Feel free to ask if you have more questions.\",\n",
    "        }\n",
    "\n",
    "        # Simple keyword-based response\n",
    "        assistant_response = \"I understand. Can you tell me more?\"\n",
    "        for keyword, response in responses.items():\n",
    "            if keyword.lower() in user_message.lower():\n",
    "                assistant_response = response\n",
    "                break\n",
    "\n",
    "        # Update conversation with both messages\n",
    "        current_messages = self.conv_manager.messages\n",
    "        new_messages = current_messages + [\n",
    "            {\"role\": \"user\", \"content\": user_message},\n",
    "            {\"role\": \"assistant\", \"content\": assistant_response},\n",
    "        ]\n",
    "\n",
    "        self.conv_manager.update_conversation(new_messages)\n",
    "        return assistant_response\n",
    "\n",
    "\n",
    "# Create a client with our conversation manager\n",
    "client = SimpleModelClient(resumed_manager)\n",
    "\n",
    "# Have a conversation\n",
    "print(\"Starting conversation with integrated client:\")\n",
    "print(f\"Initial messages: {len(client.conv_manager.messages)}\")\n",
    "\n",
    "response1 = client.chat(\"Hello there!\")\n",
    "print(f\"\\nUser: Hello there!\")\n",
    "print(f\"Assistant: {response1}\")\n",
    "\n",
    "response2 = client.chat(\"Tell me about Python\")\n",
    "print(f\"\\nUser: Tell me about Python\")\n",
    "print(f\"Assistant: {response2}\")\n",
    "\n",
    "print(f\"\\nFinal message count: {len(client.conv_manager.messages)}\")"
   ]
  },
  {
   "cell_type": "markdown",
   "id": "section-h-header",
   "metadata": {},
   "source": [
    "## H - Cleanup and Resource Management\n",
    "\n",
    "The ConversationManager automatically closes the database connection when deleted, but you can also explicitly close it."
   ]
  },
  {
   "cell_type": "code",
   "execution_count": null,
   "id": "cleanup",
   "metadata": {},
   "outputs": [],
   "source": [
    "# Show final state of conversations\n",
    "print(\"Final conversation states:\")\n",
    "print(f\"Main conversation: {len(resumed_manager.messages)} messages\")\n",
    "print(f\"Second conversation: {len(conv_manager2.messages)} messages\")\n",
    "\n",
    "# Explicitly close the managers\n",
    "resumed_manager.close()\n",
    "conv_manager2.close()\n",
    "\n",
    "print(\"\\nClosed all conversation managers\")\n",
    "\n",
    "# Clean up temporary files\n",
    "try:\n",
    "    os.unlink(temp_db.name)\n",
    "    os.unlink(temp_db2.name)\n",
    "    print(f\"Cleaned up temporary database files\")\n",
    "except:\n",
    "    print(\"Note: Some temporary files may need manual cleanup\")"
   ]
  }
 ],
 "metadata": {
  "kernelspec": {
   "display_name": "Python 3",
   "language": "python",
   "name": "python3"
  },
  "language_info": {
   "codemirror_mode": {
    "name": "ipython",
    "version": 3
   },
   "file_extension": ".py",
   "mimetype": "text/x-python",
   "name": "python",
   "nbconvert_exporter": "python",
   "pygments_lexer": "ipython3",
   "version": "3.8.5"
  }
 },
 "nbformat": 4,
 "nbformat_minor": 5
}