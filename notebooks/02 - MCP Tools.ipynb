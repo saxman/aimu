{
 "cells": [
  {
   "cell_type": "markdown",
   "id": "6ula9t96y3b",
   "metadata": {},
   "source": [
    "# 02 - MCP Tools\n",
    "\n",
    "Demonstrate various usage scenarios for MCP tools with the AIMU MCPClient class."
   ]
  },
  {
   "cell_type": "markdown",
   "id": "hv7eqrcv0ld",
   "metadata": {},
   "source": [
    "## A - MCP Client with File Server\n",
    "\n",
    "The simplest way to create an MCPClient is by pointing it to a Python file that implements an MCP server. This is useful for testing and development."
   ]
  },
  {
   "cell_type": "code",
   "execution_count": null,
   "id": "39c5a647",
   "metadata": {},
   "outputs": [],
   "source": [
    "from aimu.tools import MCPClient\n",
    "from aimu import paths\n",
    "\n",
    "# Required to allow nested event loops in Jupyter notebooks\n",
    "import nest_asyncio\n",
    "\n",
    "nest_asyncio.apply()\n",
    "\n",
    "client = MCPClient(file=str(paths.package / \"tools\" / \"servers.py\"))\n",
    "client.list_tools()"
   ]
  },
  {
   "cell_type": "markdown",
   "id": "8vb1o3d8m2e",
   "metadata": {},
   "source": [
    "Once connected, you can list all available tools provided by the MCP server. This shows the tools, their descriptions, and required parameters."
   ]
  },
  {
   "cell_type": "code",
   "execution_count": null,
   "id": "d2604690",
   "metadata": {},
   "outputs": [],
   "source": [
    "client.call_tool(\"echo\", {\"echo_string\": \"Hello, world!\"})"
   ]
  },
  {
   "cell_type": "markdown",
   "id": "ieodp6gzkf",
   "metadata": {},
   "source": [
    "You can call individual tools by their name and pass the required parameters. The tool will execute and return its result."
   ]
  },
  {
   "cell_type": "markdown",
   "id": "lweuh76pr6r",
   "metadata": {},
   "source": [
    "## B - MCP Client with Configuration\n",
    "\n",
    "For more complex setups, you can provide a configuration dictionary that defines multiple MCP servers. This allows you to connect to multiple servers simultaneously."
   ]
  },
  {
   "cell_type": "code",
   "execution_count": null,
   "id": "6d44ea4a",
   "metadata": {},
   "outputs": [],
   "source": [
    "config = {\n",
    "    \"mcpServers\": {\"echo\": {\"command\": \"python\", \"args\": [str(paths.package / \"tools\" / \"servers.py\")]}},\n",
    "}\n",
    "\n",
    "client = MCPClient(config=config)\n",
    "client.list_tools()"
   ]
  },
  {
   "cell_type": "markdown",
   "id": "q6k13dzyioh",
   "metadata": {},
   "source": [
    "The configuration-based client provides the same interface for listing and calling tools, but can aggregate tools from multiple servers."
   ]
  },
  {
   "cell_type": "code",
   "execution_count": null,
   "id": "1d1d2937",
   "metadata": {},
   "outputs": [],
   "source": [
    "client.call_tool(\"echo\", {\"echo_string\": \"Hello, world!\"})"
   ]
  },
  {
   "cell_type": "markdown",
   "id": "lj1nlt7op1",
   "metadata": {},
   "source": [
    "Tools work exactly the same way regardless of how the MCPClient was initialized."
   ]
  },
  {
   "cell_type": "markdown",
   "id": "9hm9qvabki4",
   "metadata": {},
   "source": [
    "## C - MCP Client with FastMCP Server\n",
    "\n",
    "You can also create an MCPClient directly from a FastMCP server instance. This is particularly useful when you want to define tools inline or when integrating with existing FastMCP applications."
   ]
  },
  {
   "cell_type": "code",
   "execution_count": null,
   "id": "0769b8b9",
   "metadata": {},
   "outputs": [],
   "source": [
    "from fastmcp import FastMCP\n",
    "\n",
    "mcp = FastMCP(\"AIMU Tools\")\n",
    "\n",
    "\n",
    "@mcp.tool()\n",
    "def echo(echo_string: str) -> str:\n",
    "    return echo_string\n",
    "\n",
    "\n",
    "client = MCPClient(server=mcp)\n",
    "client.list_tools()"
   ]
  },
  {
   "cell_type": "markdown",
   "id": "vbo4aw59v5",
   "metadata": {},
   "source": [
    "This approach creates an MCP server with tools defined using Python decorators, then wraps it with an MCPClient for easy access."
   ]
  },
  {
   "cell_type": "code",
   "execution_count": null,
   "id": "2ca23148",
   "metadata": {},
   "outputs": [],
   "source": [
    "client.call_tool(\"echo\", {\"echo_string\": \"Hello, world!\"})"
   ]
  },
  {
   "cell_type": "markdown",
   "id": "4c2mimubwqs",
   "metadata": {},
   "source": [
    "The FastMCP-based client works identically to file-based and configuration-based clients, providing a consistent interface for tool interaction."
   ]
  }
 ],
 "metadata": {
  "kernelspec": {
   "display_name": "aimu",
   "language": "python",
   "name": "python3"
  },
  "language_info": {
   "codemirror_mode": {
    "name": "ipython",
    "version": 3
   },
   "file_extension": ".py",
   "mimetype": "text/x-python",
   "name": "python",
   "nbconvert_exporter": "python",
   "pygments_lexer": "ipython3",
   "version": "3.12.6"
  }
 },
 "nbformat": 4,
 "nbformat_minor": 5
}
