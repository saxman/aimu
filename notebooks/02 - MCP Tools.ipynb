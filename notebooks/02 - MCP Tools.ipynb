{
 "cells": [
  {
   "cell_type": "code",
   "execution_count": null,
   "id": "39c5a647",
   "metadata": {},
   "outputs": [],
   "source": [
    "from aimu.tools import MCPClient\n",
    "from aimu import paths\n",
    "\n",
    "# Required to allow nested event loops in Jupyter notebooks\n",
    "import nest_asyncio\n",
    "\n",
    "nest_asyncio.apply()\n",
    "\n",
    "client = MCPClient(file=str(paths.tests / \"mcp_test_server.py\"))\n",
    "client.list_tools()"
   ]
  },
  {
   "cell_type": "code",
   "execution_count": null,
   "id": "d2604690",
   "metadata": {},
   "outputs": [],
   "source": [
    "client.call_tool(\"echo\", {\"echo_string\": \"Hello, world!\"})"
   ]
  },
  {
   "cell_type": "code",
   "execution_count": null,
   "id": "6d44ea4a",
   "metadata": {},
   "outputs": [],
   "source": [
    "config = {\n",
    "    \"mcpServers\": {\"echo\": {\"command\": \"python\", \"args\": [str(paths.tests / \"mcp_test_server.py\")]}},\n",
    "}\n",
    "\n",
    "client = MCPClient(config=config)\n",
    "client.list_tools()"
   ]
  },
  {
   "cell_type": "code",
   "execution_count": null,
   "id": "1d1d2937",
   "metadata": {},
   "outputs": [],
   "source": [
    "client.call_tool(\"echo\", {\"echo_string\": \"Hello, world!\"})"
   ]
  },
  {
   "cell_type": "code",
   "execution_count": null,
   "id": "0769b8b9",
   "metadata": {},
   "outputs": [],
   "source": [
    "from fastmcp import FastMCP\n",
    "\n",
    "mcp = FastMCP(\"AIMU Tools\")\n",
    "\n",
    "\n",
    "@mcp.tool()\n",
    "def echo(echo_string: str) -> str:\n",
    "    return echo_string\n",
    "\n",
    "\n",
    "client = MCPClient(server=mcp)\n",
    "client.list_tools()"
   ]
  },
  {
   "cell_type": "code",
   "execution_count": null,
   "id": "2ca23148",
   "metadata": {},
   "outputs": [],
   "source": [
    "client.call_tool(\"echo\", {\"echo_string\": \"Hello, world!\"})"
   ]
  }
 ],
 "metadata": {
  "kernelspec": {
   "display_name": "aimu",
   "language": "python",
   "name": "python3"
  },
  "language_info": {
   "codemirror_mode": {
    "name": "ipython",
    "version": 3
   },
   "file_extension": ".py",
   "mimetype": "text/x-python",
   "name": "python",
   "nbconvert_exporter": "python",
   "pygments_lexer": "ipython3",
   "version": "3.12.3"
  }
 },
 "nbformat": 4,
 "nbformat_minor": 5
}
