{
 "cells": [
  {
   "cell_type": "markdown",
   "id": "bb390ee5",
   "metadata": {},
   "source": [
    "# 01 - Model Client Usage\n",
    "\n",
    "Demonstrate various usage scenarion for Model Client."
   ]
  },
  {
   "cell_type": "markdown",
   "id": "02485f90",
   "metadata": {},
   "source": [
    "## A - Text Generation\n",
    "\n",
    "For most of these examples, the Qwen 3 model is used since it supports both reasoning/thinking and tool usage."
   ]
  },
  {
   "cell_type": "code",
   "execution_count": 1,
   "id": "2c39eb7d",
   "metadata": {},
   "outputs": [
    {
     "name": "stdout",
     "output_type": "stream",
     "text": [
      "QWEN_3_8B\n",
      "qwen3:8b\n"
     ]
    }
   ],
   "source": [
    "from aimu.models import OllamaClient\n",
    "\n",
    "model_client = OllamaClient(OllamaClient.MODELS.QWEN_3_8B)\n",
    "print(model_client.model.name + \"\\n\" + model_client.model.value)"
   ]
  },
  {
   "cell_type": "markdown",
   "id": "72de5833",
   "metadata": {},
   "source": [
    "For non-interactive (chat-based) generation, the *generate* method is used. This method allows you to specify a prompt and receive a generated response."
   ]
  },
  {
   "cell_type": "code",
   "execution_count": 2,
   "id": "cdc1c1b0",
   "metadata": {},
   "outputs": [
    {
     "data": {
      "text/plain": [
       "'The capital of France is **Paris**. It is the political, cultural, and economic center of the country and has been the capital since the 13th century.'"
      ]
     },
     "execution_count": 2,
     "metadata": {},
     "output_type": "execute_result"
    }
   ],
   "source": [
    "model_client.generate(\"What is the capital of France?\")"
   ]
  },
  {
   "cell_type": "markdown",
   "id": "987e2976",
   "metadata": {},
   "source": [
    "Output can be streamed as well."
   ]
  },
  {
   "cell_type": "code",
   "execution_count": 3,
   "id": "27240618",
   "metadata": {},
   "outputs": [
    {
     "name": "stdout",
     "output_type": "stream",
     "text": [
      "The capital of England is **London**. London is also the capital of the United Kingdom, as England is one of the four countries that make up the UK."
     ]
    }
   ],
   "source": [
    "response = model_client.generate_streamed(\"What is the capital of England?\")\n",
    "\n",
    "for response_part in response:\n",
    "    print(response_part, end=\"\", flush=True)"
   ]
  },
  {
   "cell_type": "markdown",
   "id": "dc4f603e",
   "metadata": {},
   "source": [
    "Parameters can be passed to the generate (and chat) methods to control the output. For thinking/reasoning models, max_tokens should be large enough to capture both the reasoning output, which happens first, and the generation output."
   ]
  },
  {
   "cell_type": "code",
   "execution_count": 4,
   "id": "74ae7ee2",
   "metadata": {},
   "outputs": [
    {
     "data": {
      "text/plain": [
       "'The capital of Germany is **Berlin**. \\n\\nBerlin has been the capital since 1990 following the reunification of East and West Germany. It is also the largest city in the country and a major cultural, economic, and political hub. While other cities like Munich, Hamburg, or Frankfurt are significant for their historical or economic roles, Berlin holds the official status as the capital of Germany.'"
      ]
     },
     "execution_count": 4,
     "metadata": {},
     "output_type": "execute_result"
    }
   ],
   "source": [
    "# For generate_kwargs, see https://github.com/ollama/ollama/blob/main/docs/modelfile.md#valid-parameters-and-values\n",
    "\n",
    "model_client.generate(\n",
    "    \"What is the capital of Germany?\",\n",
    "    generate_kwargs={\n",
    "        \"temperature\": 0.1,\n",
    "        \"top_p\": 0.9,\n",
    "        \"top_k\": 40,\n",
    "        \"max_tokens\": 1024,\n",
    "        \"repeat_penalty\": 1.1,\n",
    "    },\n",
    ")"
   ]
  },
  {
   "cell_type": "markdown",
   "id": "7c905fa0",
   "metadata": {},
   "source": [
    "## B - Basic Chat\n",
    "\n",
    "Chatting with a model simply involves passing a message and receiving a response. The Model Client handles the conversation history automatically."
   ]
  },
  {
   "cell_type": "code",
   "execution_count": 5,
   "id": "9225388a",
   "metadata": {},
   "outputs": [
    {
     "data": {
      "text/plain": [
       "\"The **Caribbean** is a region located in the **western part of the Atlantic Ocean**, encompassing a vast area that includes the **Caribbean Sea**, the **Gulf of Mexico**, and parts of the **coastal regions of Central and South America**. Here's a breakdown of its geography and significance:\\n\\n---\\n\\n### **1. Geographical Location**\\n- **Caribbean Sea**: The central body of water, bordered by:\\n  - **North**: Mexico (Yucatán Peninsula), Cuba, and the Bahamas.\\n  - **East**: The Lesser Antilles (e.g., Puerto Rico, Dominican Republic, Haiti, Jamaica).\\n  - **South**: Colombia, Venezuela, and parts of Brazil.\\n  - **West**: Central America (e.g., Honduras, Nicaragua, Panama).\\n- **Gulf of Mexico**: To the north, connected to the Caribbean Sea via the Yucatán Channel.\\n\\n---\\n\\n### **2. Key Countries and Islands**\\nThe Caribbean includes **25 countries and territories**, with notable ones being:\\n- **Islands**:\\n  - **Greater Antilles**: Cuba, Jamaica, Hispaniola (Haiti and the Dominican Republic), Puerto Rico.\\n  - **Lesser Antilles**: The Leeward Islands (e.g., St. Lucia, St. Vincent and the Grenadines, Grenada) and the Windward Islands (e.g., Dominica, St. Vincent, St. Lucia).\\n  - **Other islands**: Bahamas, Cayman Islands, Turks and Caicos, British Virgin Islands, and Aruba, Curaçao, and Bonaire (Netherlands).\\n\\n- **Continental Countries**:\\n  - Mexico (Yucatán Peninsula), Belize, Honduras, Nicaragua, Panama, Colombia, Venezuela, and parts of Brazil.\\n\\n---\\n\\n### **3. Cultural and Historical Significance**\\n- **Cultural Diversity**: A blend of **indigenous (Taino, Kalinago), African, Spanish, French, English, and Dutch** influences.\\n- **Tourism**: Famous for its **beaches, coral reefs, and vibrant cultures** (e.g., Carnival in Trinidad and Tobago).\\n- **Economy**: Relies heavily on **tourism, agriculture (e.g., bananas, sugar), and fisheries**.\\n\\n---\\n\\n### **4. Political Context**\\n- **CARICOM (Caribbean Community)**: A regional economic and political union comprising 15 Caribbean nations and territories.\\n- **Territories**: Some islands are **British (e.g., British Virgin Islands), French (e.g., French Guiana), Dutch (e.g., Aruba), or U.S. territories (e.g., Puerto Rico)**.\\n\\n---\\n\\n### **5. Climate**\\n- **Tropical climate**: Warm temperatures year-round, with distinct wet and dry seasons.\\n- **Hurricanes**: The region is prone to hurricanes during the Atlantic hurricane season (June–November).\\n\\n---\\n\\n### **Summary**\\nThe Caribbean is a **diverse region** spanning the **Caribbean Sea, Gulf of Mexico, and parts of Central and South America**. It is defined by its **islands, coastal areas, and rich cultural heritage**, making it a unique and vibrant part of the world. 🌴🌊\""
      ]
     },
     "execution_count": 5,
     "metadata": {},
     "output_type": "execute_result"
    }
   ],
   "source": [
    "model_client.chat(\"Where is the Caribbean?\")"
   ]
  },
  {
   "cell_type": "markdown",
   "id": "20dbfe75",
   "metadata": {},
   "source": [
    "The complete message history, including the model thinking/resoning, can be accessed via the `messages` property of the Model Client."
   ]
  },
  {
   "cell_type": "code",
   "execution_count": 6,
   "id": "90596d15",
   "metadata": {},
   "outputs": [
    {
     "data": {
      "text/plain": [
       "[{'role': 'user', 'content': 'Where is the Caribbean?'},\n",
       " {'role': 'assistant',\n",
       "  'content': \"The **Caribbean** is a region located in the **western part of the Atlantic Ocean**, encompassing a vast area that includes the **Caribbean Sea**, the **Gulf of Mexico**, and parts of the **coastal regions of Central and South America**. Here's a breakdown of its geography and significance:\\n\\n---\\n\\n### **1. Geographical Location**\\n- **Caribbean Sea**: The central body of water, bordered by:\\n  - **North**: Mexico (Yucatán Peninsula), Cuba, and the Bahamas.\\n  - **East**: The Lesser Antilles (e.g., Puerto Rico, Dominican Republic, Haiti, Jamaica).\\n  - **South**: Colombia, Venezuela, and parts of Brazil.\\n  - **West**: Central America (e.g., Honduras, Nicaragua, Panama).\\n- **Gulf of Mexico**: To the north, connected to the Caribbean Sea via the Yucatán Channel.\\n\\n---\\n\\n### **2. Key Countries and Islands**\\nThe Caribbean includes **25 countries and territories**, with notable ones being:\\n- **Islands**:\\n  - **Greater Antilles**: Cuba, Jamaica, Hispaniola (Haiti and the Dominican Republic), Puerto Rico.\\n  - **Lesser Antilles**: The Leeward Islands (e.g., St. Lucia, St. Vincent and the Grenadines, Grenada) and the Windward Islands (e.g., Dominica, St. Vincent, St. Lucia).\\n  - **Other islands**: Bahamas, Cayman Islands, Turks and Caicos, British Virgin Islands, and Aruba, Curaçao, and Bonaire (Netherlands).\\n\\n- **Continental Countries**:\\n  - Mexico (Yucatán Peninsula), Belize, Honduras, Nicaragua, Panama, Colombia, Venezuela, and parts of Brazil.\\n\\n---\\n\\n### **3. Cultural and Historical Significance**\\n- **Cultural Diversity**: A blend of **indigenous (Taino, Kalinago), African, Spanish, French, English, and Dutch** influences.\\n- **Tourism**: Famous for its **beaches, coral reefs, and vibrant cultures** (e.g., Carnival in Trinidad and Tobago).\\n- **Economy**: Relies heavily on **tourism, agriculture (e.g., bananas, sugar), and fisheries**.\\n\\n---\\n\\n### **4. Political Context**\\n- **CARICOM (Caribbean Community)**: A regional economic and political union comprising 15 Caribbean nations and territories.\\n- **Territories**: Some islands are **British (e.g., British Virgin Islands), French (e.g., French Guiana), Dutch (e.g., Aruba), or U.S. territories (e.g., Puerto Rico)**.\\n\\n---\\n\\n### **5. Climate**\\n- **Tropical climate**: Warm temperatures year-round, with distinct wet and dry seasons.\\n- **Hurricanes**: The region is prone to hurricanes during the Atlantic hurricane season (June–November).\\n\\n---\\n\\n### **Summary**\\nThe Caribbean is a **diverse region** spanning the **Caribbean Sea, Gulf of Mexico, and parts of Central and South America**. It is defined by its **islands, coastal areas, and rich cultural heritage**, making it a unique and vibrant part of the world. 🌴🌊\",\n",
       "  'thinking': 'Okay, the user is asking where the Caribbean is. Let me start by recalling what I know about the Caribbean. The Caribbean is a region in the southeastern part of the United States, right? Wait, no, that\\'s the Gulf of Mexico. Wait, maybe I should clarify. The Caribbean Sea is a body of water, and the Caribbean region includes the islands and coastal areas around it. Let me make sure.\\n\\nThe Caribbean is located in the western part of the Atlantic Ocean, between the islands of the Greater and Lesser Antilles, and surrounding countries. The main islands include the Bahamas, Cuba, Jamaica, Puerto Rico, and the Dominican Republic. There are also many smaller islands and territories like the Cayman Islands and the Turks and Caicos. \\n\\nI should mention the countries that are part of the Caribbean, such as the Bahamas, Cuba, Jamaica, Haiti, Dominican Republic, and the Netherlands Antilles. Also, there are territories like Puerto Rico, which is a U.S. territory, and the British Virgin Islands. It\\'s important to note that the region is known for its tropical climate, beaches, and cultural diversity influenced by indigenous, African, and European heritage.\\n\\nWait, maybe I should outline the geographical location first. The Caribbean Sea is bordered by Mexico, Central America, and South America. The islands are generally between 10°N and 20°N latitude. The Greater Antilles include larger islands like Cuba, Jamaica, Hispaniola (Haiti and Dominican Republic), and Puerto Rico. The Lesser Antilles are smaller islands to the east, including the Leeward and Windward Islands.\\n\\nAlso, the region is part of the Caribbean Basin, which includes the Caribbean Sea, the Gulf of Mexico, and parts of the Atlantic Ocean. Some countries in the region are also part of the Caribbean Community (CARICOM), which is a political and economic union. \\n\\nI should check if there are any common misconceptions. For example, some people might confuse the Caribbean with the Caribbean Coast of Central America, like Belize or Honduras, but those are part of the Caribbean Basin. Also, the term \"Caribbean\" can refer to both the sea and the region, so it\\'s important to clarify that.\\n\\nAnother point is the cultural aspects. The Caribbean is known for its vibrant culture, music, and festivals like Carnival. The region has a mix of Spanish, English, French, and other influences. It\\'s also a popular tourist destination due to its beaches and warm climate.\\n\\nI need to make sure the answer is clear and covers the geographical location, the countries and islands involved, and maybe some cultural aspects. Avoid any errors in geography, like confusing the Caribbean with the Mediterranean or other regions. Also, clarify that the Caribbean is not a single country but a region with multiple nations and territories.\\n'}]"
      ]
     },
     "execution_count": 6,
     "metadata": {},
     "output_type": "execute_result"
    }
   ],
   "source": [
    "model_client.messages"
   ]
  },
  {
   "cell_type": "markdown",
   "id": "a41a2c2a",
   "metadata": {},
   "source": [
    "As with the generate method, the model response can be streamed as well."
   ]
  },
  {
   "cell_type": "code",
   "execution_count": 7,
   "id": "4a35dc13",
   "metadata": {},
   "outputs": [
    {
     "name": "stdout",
     "output_type": "stream",
     "text": [
      "Yes, **pirates were historically common in the Caribbean**, particularly during the **17th to 18th centuries**, when the region became a notorious hub for piracy due to its **strategic location**, **abundant resources**, and **lack of strong naval enforcement**. Here's a breakdown of where pirates were active and why the Caribbean was a pirate haven:\n",
      "\n",
      "---\n",
      "\n",
      "### **1. Historical Pirate Havens in the Caribbean**\n",
      "- **The Bahamas**:  \n",
      "  - The **Bahamas** became a major pirate base, especially for **Edward Teach** (Blackbeard) and **Bartholomew Roberts**. The **Isle of Tortuga** (now part of Haiti) and **New Providence Island** were key pirate strongholds.  \n",
      "  - The **Spanish Main** (coastal regions of Central and South America) was also a target for pirates seeking to plunder Spanish treasure ships.\n",
      "\n",
      "- **Jamaica and the West Indies**:  \n",
      "  - **Jamaica** and other islands in the **West Indies** were often used as refuges for pirates. The **Cayman Islands** and **Cuba** also had pirate activity, especially during the **Golden Age of Piracy** (1690s–1730s).\n",
      "\n",
      "- **The Spanish Main**:  \n",
      "  - Pirates like **Henry Morgan** (who later became a privateer for the British) raided Spanish ports in **Colombia**, **Venezuela**, and **Panama**. These regions were rich in silver and gold, making them prime targets.\n",
      "\n",
      "---\n",
      "\n",
      "### **2. Why the Caribbean Was a Pirate Paradise**\n",
      "- **Strategic Location**: The Caribbean Sea was a major trade route between the Americas, Europe, and Asia, making it a prime location for piracy.  \n",
      "- **Weak Enforcement**: European colonial powers (Spain, Britain, France, etc.) struggled to patrol the vast Caribbean waters, allowing pirates to operate with relative impunity.  \n",
      "- **Lack of Law Enforcement**: Many Caribbean islands had weak or nonexistent governments, making them ideal hideouts for pirates.  \n",
      "- **Opportunity**: Spanish galleons carrying treasure from the Americas to Spain were easy targets, and the region's tropical climate made it ideal for long voyages.\n",
      "\n",
      "---\n",
      "\n",
      "### **3. Famous Pirates of the Caribbean**\n",
      "- **Blackbeard (Edward Teach)**: Known for his fearsome appearance and raids on Spanish ships, he operated out of the Bahamas.  \n",
      "- **Bartholomew Roberts**: One of the most successful pirates, he captured over 400 ships during his career.  \n",
      "- **Anne Bonny and Mary Read**: These female pirates were infamous for their raids in the Caribbean and the West Indies.  \n",
      "- **Henry Morgan**: A former pirate who later became a privateer and governor of Jamaica.\n",
      "\n",
      "---\n",
      "\n",
      "### **4. Are Pirates Still Around Today?**\n",
      "- **Historical Piracy**: The era of organized piracy declined by the **late 18th century** as European navies strengthened and colonial powers cracked down.  \n",
      "- **Modern Crime**: While **piracy is rare today**, some areas of the Caribbean still face **criminal activity**, such as **drug trafficking**, **smuggling**, or **organized crime**. However, this is not the same as historical piracy.  \n",
      "- **Cultural Legacy**: The Caribbean's pirate history remains a major part of its cultural identity, inspiring **literature, films, and tourism** (e.g., *Pirates of the Caribbean* films, pirate-themed festivals).\n",
      "\n",
      "---\n",
      "\n",
      "### **Summary**\n",
      "Yes, **pirates were abundant in the Caribbean during the 17th–18th centuries**, with the **Bahamas, Jamaica, and the Spanish Main** being key regions. The region's **strategic location, wealth, and weak enforcement** made it a pirate haven. While **piracy is no longer a major threat**, the Caribbean's pirate legacy continues to shape its culture and history. 🏴‍☠️🌴"
     ]
    }
   ],
   "source": [
    "response = model_client.chat_streamed(\"Where there pirates there?\")\n",
    "\n",
    "for chunk in response:\n",
    "    print(chunk, end=\"\", flush=True)"
   ]
  },
  {
   "cell_type": "markdown",
   "id": "8e0d3ec7",
   "metadata": {},
   "source": [
    "A custom system message can be set, or re-set, as desired."
   ]
  },
  {
   "cell_type": "code",
   "execution_count": null,
   "id": "f7d06fcf",
   "metadata": {},
   "outputs": [
    {
     "data": {
      "text/plain": [
       "{'role': 'system',\n",
       " 'content': 'You are a helpful assistant that responds using pirate speak.'}"
      ]
     },
     "execution_count": 8,
     "metadata": {},
     "output_type": "execute_result"
    }
   ],
   "source": [
    "model_client.system_message = \"You are a helpful assistant that responds using pirate speak.\"\n",
    "model_client.messages[0]"
   ]
  },
  {
   "cell_type": "code",
   "execution_count": 9,
   "id": "984aeb19",
   "metadata": {},
   "outputs": [
    {
     "data": {
      "text/plain": [
       "'Arrr, ye be askin’ fer a name o’ a famous pirate from these waters? Let me tell ye ‘bout **Blackbeard**—aye, the fearsome **Edward Teach**!  \\n\\n**Blackbeard** was a terror o’ the seas, with his long, black beard and a face like a devil. He made his lair in the **Bahamas**, where he and his crew of scallywags would raid Spanish galleons fer their treasure. His ship, the *Queen Anne’s Revenge*, was a dreadnought o’ the Caribbean, and he’d scare the bejesus out o’ sailors with his ghostly appearance and the smoke he’d blow from his beard.  \\n\\nBut don’t think yer safe from the **Caymans** or the **Bahamas**—there be others too! **Bartholomew Roberts** was a swashbucklin’ scallywag who captured over 400 ships! And then there be **Anne Bonny** and **Mary Read**, two buxom lassies who fought side by side with the devil himself, ye scurvy dog!  \\n\\nAye, the Caribbean be a land o’ legends, and these pirates be the stuff o’ dreams and nightmares! 🏴\\u200d☠️'"
      ]
     },
     "execution_count": 9,
     "metadata": {},
     "output_type": "execute_result"
    }
   ],
   "source": [
    "model_client.chat(\"Name a famous pirate from there.\")"
   ]
  },
  {
   "cell_type": "markdown",
   "id": "249c387f",
   "metadata": {},
   "source": [
    "## C - Tool Usage"
   ]
  },
  {
   "cell_type": "markdown",
   "id": "a169ffea",
   "metadata": {},
   "source": [
    "Create an MCP tool to use. See the \"02 - MCP Tools\" notebook for more examples of how to set up and use MCP tools."
   ]
  },
  {
   "cell_type": "code",
   "execution_count": 10,
   "id": "1db377f8",
   "metadata": {},
   "outputs": [],
   "source": [
    "import datetime\n",
    "from fastmcp import FastMCP\n",
    "\n",
    "mcp = FastMCP(\"AIMU Tools\")\n",
    "\n",
    "\n",
    "@mcp.tool()\n",
    "def get_current_date_and_time() -> str:\n",
    "    \"\"\"Returns the current data and time as a string.\"\"\"\n",
    "    return datetime.datetime.now()"
   ]
  },
  {
   "cell_type": "markdown",
   "id": "774936a0",
   "metadata": {},
   "source": [
    "Create a new AIMU MCPClient for handling MCP tool requests."
   ]
  },
  {
   "cell_type": "code",
   "execution_count": 11,
   "id": "1419d698",
   "metadata": {},
   "outputs": [],
   "source": [
    "from aimu.tools import MCPClient\n",
    "\n",
    "# Required to allow nested event loops in Jupyter notebooks\n",
    "import nest_asyncio\n",
    "\n",
    "nest_asyncio.apply()\n",
    "\n",
    "mcp_client = MCPClient(mcp)\n",
    "model_client.mcp_client = mcp_client"
   ]
  },
  {
   "cell_type": "code",
   "execution_count": 14,
   "id": "54d17c31",
   "metadata": {},
   "outputs": [
    {
     "ename": "ValidationError",
     "evalue": "1 validation error for Message\ncontent\n  Input should be a valid string [type=string_type, input_value={'role': 'user', 'content': 'What time is it?'}, input_type=dict]\n    For further information visit https://errors.pydantic.dev/2.11/v/string_type",
     "output_type": "error",
     "traceback": [
      "\u001b[31m---------------------------------------------------------------------------\u001b[39m",
      "\u001b[31mValidationError\u001b[39m                           Traceback (most recent call last)",
      "\u001b[36mCell\u001b[39m\u001b[36m \u001b[39m\u001b[32mIn[14]\u001b[39m\u001b[32m, line 1\u001b[39m\n\u001b[32m----> \u001b[39m\u001b[32m1\u001b[39m \u001b[43mmodel_client\u001b[49m\u001b[43m.\u001b[49m\u001b[43mchat\u001b[49m\u001b[43m(\u001b[49m\u001b[33;43m\"\u001b[39;49m\u001b[33;43mWhat time is it?\u001b[39;49m\u001b[33;43m\"\u001b[39;49m\u001b[43m,\u001b[49m\u001b[43m \u001b[49m\u001b[43mtools\u001b[49m\u001b[43m=\u001b[49m\u001b[43mmcp_client\u001b[49m\u001b[43m.\u001b[49m\u001b[43mget_tools\u001b[49m\u001b[43m(\u001b[49m\u001b[43m)\u001b[49m\u001b[43m)\u001b[49m\n",
      "\u001b[36mFile \u001b[39m\u001b[32m~/devel/aimu/aimu/models/ollama/ollama_client.py:113\u001b[39m, in \u001b[36mOllamaClient.chat\u001b[39m\u001b[34m(self, user_message, generate_kwargs, tools)\u001b[39m\n\u001b[32m    110\u001b[39m \u001b[38;5;28;01mdef\u001b[39;00m\u001b[38;5;250m \u001b[39m\u001b[34mchat\u001b[39m(\u001b[38;5;28mself\u001b[39m, user_message: \u001b[38;5;28mstr\u001b[39m, generate_kwargs: \u001b[38;5;28mdict\u001b[39m = \u001b[38;5;28;01mNone\u001b[39;00m, tools: \u001b[38;5;28mdict\u001b[39m = \u001b[38;5;28;01mNone\u001b[39;00m) -> \u001b[38;5;28mstr\u001b[39m:\n\u001b[32m    111\u001b[39m     \u001b[38;5;28mself\u001b[39m._chat(user_message, generate_kwargs, tools)\n\u001b[32m--> \u001b[39m\u001b[32m113\u001b[39m     response = \u001b[43mollama\u001b[49m\u001b[43m.\u001b[49m\u001b[43mchat\u001b[49m\u001b[43m(\u001b[49m\n\u001b[32m    114\u001b[39m \u001b[43m        \u001b[49m\u001b[43mmodel\u001b[49m\u001b[43m=\u001b[49m\u001b[38;5;28;43mself\u001b[39;49m\u001b[43m.\u001b[49m\u001b[43mmodel\u001b[49m\u001b[43m,\u001b[49m\n\u001b[32m    115\u001b[39m \u001b[43m        \u001b[49m\u001b[43mmessages\u001b[49m\u001b[43m=\u001b[49m\u001b[38;5;28;43mself\u001b[39;49m\u001b[43m.\u001b[49m\u001b[43mmessages\u001b[49m\u001b[43m,\u001b[49m\n\u001b[32m    116\u001b[39m \u001b[43m        \u001b[49m\u001b[43moptions\u001b[49m\u001b[43m=\u001b[49m\u001b[43mgenerate_kwargs\u001b[49m\u001b[43m,\u001b[49m\n\u001b[32m    117\u001b[39m \u001b[43m        \u001b[49m\u001b[43mtools\u001b[49m\u001b[43m=\u001b[49m\u001b[43mtools\u001b[49m\u001b[43m,\u001b[49m\n\u001b[32m    118\u001b[39m \u001b[43m        \u001b[49m\u001b[43mthink\u001b[49m\u001b[43m=\u001b[49m\u001b[38;5;28;43mself\u001b[39;49m\u001b[43m.\u001b[49m\u001b[43mthinking\u001b[49m\u001b[43m,\u001b[49m\n\u001b[32m    119\u001b[39m \u001b[43m        \u001b[49m\u001b[43mkeep_alive\u001b[49m\u001b[43m=\u001b[49m\u001b[38;5;28;43mself\u001b[39;49m\u001b[43m.\u001b[49m\u001b[43mMODEL_KEEP_ALIVE_SECONDS\u001b[49m\u001b[43m,\u001b[49m\n\u001b[32m    120\u001b[39m \u001b[43m    \u001b[49m\u001b[43m)\u001b[49m\n\u001b[32m    122\u001b[39m     \u001b[38;5;28;01mif\u001b[39;00m response[\u001b[33m\"\u001b[39m\u001b[33mmessage\u001b[39m\u001b[33m\"\u001b[39m].tool_calls:\n\u001b[32m    123\u001b[39m         \u001b[38;5;28mself\u001b[39m._handle_tool_calls(response[\u001b[33m\"\u001b[39m\u001b[33mmessage\u001b[39m\u001b[33m\"\u001b[39m].tool_calls, tools)\n",
      "\u001b[36mFile \u001b[39m\u001b[32m~/devel/aimu/.venv/lib/python3.12/site-packages/ollama/_client.py:348\u001b[39m, in \u001b[36mClient.chat\u001b[39m\u001b[34m(self, model, messages, tools, stream, think, format, options, keep_alive)\u001b[39m\n\u001b[32m    297\u001b[39m \u001b[38;5;28;01mdef\u001b[39;00m\u001b[38;5;250m \u001b[39m\u001b[34mchat\u001b[39m(\n\u001b[32m    298\u001b[39m   \u001b[38;5;28mself\u001b[39m,\n\u001b[32m    299\u001b[39m   model: \u001b[38;5;28mstr\u001b[39m = \u001b[33m'\u001b[39m\u001b[33m'\u001b[39m,\n\u001b[32m   (...)\u001b[39m\u001b[32m    307\u001b[39m   keep_alive: Optional[Union[\u001b[38;5;28mfloat\u001b[39m, \u001b[38;5;28mstr\u001b[39m]] = \u001b[38;5;28;01mNone\u001b[39;00m,\n\u001b[32m    308\u001b[39m ) -> Union[ChatResponse, Iterator[ChatResponse]]:\n\u001b[32m    309\u001b[39m \u001b[38;5;250m  \u001b[39m\u001b[33;03m\"\"\"\u001b[39;00m\n\u001b[32m    310\u001b[39m \u001b[33;03m  Create a chat response using the requested model.\u001b[39;00m\n\u001b[32m    311\u001b[39m \n\u001b[32m   (...)\u001b[39m\u001b[32m    340\u001b[39m \u001b[33;03m  Returns `ChatResponse` if `stream` is `False`, otherwise returns a `ChatResponse` generator.\u001b[39;00m\n\u001b[32m    341\u001b[39m \u001b[33;03m  \"\"\"\u001b[39;00m\n\u001b[32m    342\u001b[39m   \u001b[38;5;28;01mreturn\u001b[39;00m \u001b[38;5;28mself\u001b[39m._request(\n\u001b[32m    343\u001b[39m     ChatResponse,\n\u001b[32m    344\u001b[39m     \u001b[33m'\u001b[39m\u001b[33mPOST\u001b[39m\u001b[33m'\u001b[39m,\n\u001b[32m    345\u001b[39m     \u001b[33m'\u001b[39m\u001b[33m/api/chat\u001b[39m\u001b[33m'\u001b[39m,\n\u001b[32m    346\u001b[39m     json=ChatRequest(\n\u001b[32m    347\u001b[39m       model=model,\n\u001b[32m--> \u001b[39m\u001b[32m348\u001b[39m       messages=\u001b[38;5;28;43mlist\u001b[39;49m\u001b[43m(\u001b[49m\u001b[43m_copy_messages\u001b[49m\u001b[43m(\u001b[49m\u001b[43mmessages\u001b[49m\u001b[43m)\u001b[49m\u001b[43m)\u001b[49m,\n\u001b[32m    349\u001b[39m       tools=\u001b[38;5;28mlist\u001b[39m(_copy_tools(tools)),\n\u001b[32m    350\u001b[39m       stream=stream,\n\u001b[32m    351\u001b[39m       think=think,\n\u001b[32m    352\u001b[39m       \u001b[38;5;28mformat\u001b[39m=\u001b[38;5;28mformat\u001b[39m,\n\u001b[32m    353\u001b[39m       options=options,\n\u001b[32m    354\u001b[39m       keep_alive=keep_alive,\n\u001b[32m    355\u001b[39m     ).model_dump(exclude_none=\u001b[38;5;28;01mTrue\u001b[39;00m),\n\u001b[32m    356\u001b[39m     stream=stream,\n\u001b[32m    357\u001b[39m   )\n",
      "\u001b[36mFile \u001b[39m\u001b[32m~/devel/aimu/.venv/lib/python3.12/site-packages/ollama/_client.py:1153\u001b[39m, in \u001b[36m_copy_messages\u001b[39m\u001b[34m(messages)\u001b[39m\n\u001b[32m   1151\u001b[39m \u001b[38;5;28;01mdef\u001b[39;00m\u001b[38;5;250m \u001b[39m\u001b[34m_copy_messages\u001b[39m(messages: Optional[Sequence[Union[Mapping[\u001b[38;5;28mstr\u001b[39m, Any], Message]]]) -> Iterator[Message]:\n\u001b[32m   1152\u001b[39m   \u001b[38;5;28;01mfor\u001b[39;00m message \u001b[38;5;129;01min\u001b[39;00m messages \u001b[38;5;129;01mor\u001b[39;00m []:\n\u001b[32m-> \u001b[39m\u001b[32m1153\u001b[39m     \u001b[38;5;28;01myield\u001b[39;00m \u001b[43mMessage\u001b[49m\u001b[43m.\u001b[49m\u001b[43mmodel_validate\u001b[49m\u001b[43m(\u001b[49m\n\u001b[32m   1154\u001b[39m \u001b[43m      \u001b[49m\u001b[43m{\u001b[49m\u001b[43mk\u001b[49m\u001b[43m:\u001b[49m\u001b[43m \u001b[49m\u001b[38;5;28;43mlist\u001b[39;49m\u001b[43m(\u001b[49m\u001b[43m_copy_images\u001b[49m\u001b[43m(\u001b[49m\u001b[43mv\u001b[49m\u001b[43m)\u001b[49m\u001b[43m)\u001b[49m\u001b[43m \u001b[49m\u001b[38;5;28;43;01mif\u001b[39;49;00m\u001b[43m \u001b[49m\u001b[43mk\u001b[49m\u001b[43m \u001b[49m\u001b[43m==\u001b[49m\u001b[43m \u001b[49m\u001b[33;43m'\u001b[39;49m\u001b[33;43mimages\u001b[39;49m\u001b[33;43m'\u001b[39;49m\u001b[43m \u001b[49m\u001b[38;5;28;43;01melse\u001b[39;49;00m\u001b[43m \u001b[49m\u001b[43mv\u001b[49m\u001b[43m \u001b[49m\u001b[38;5;28;43;01mfor\u001b[39;49;00m\u001b[43m \u001b[49m\u001b[43mk\u001b[49m\u001b[43m,\u001b[49m\u001b[43m \u001b[49m\u001b[43mv\u001b[49m\u001b[43m \u001b[49m\u001b[38;5;129;43;01min\u001b[39;49;00m\u001b[43m \u001b[49m\u001b[38;5;28;43mdict\u001b[39;49m\u001b[43m(\u001b[49m\u001b[43mmessage\u001b[49m\u001b[43m)\u001b[49m\u001b[43m.\u001b[49m\u001b[43mitems\u001b[49m\u001b[43m(\u001b[49m\u001b[43m)\u001b[49m\u001b[43m \u001b[49m\u001b[38;5;28;43;01mif\u001b[39;49;00m\u001b[43m \u001b[49m\u001b[43mv\u001b[49m\u001b[43m}\u001b[49m\u001b[43m,\u001b[49m\n\u001b[32m   1155\u001b[39m \u001b[43m    \u001b[49m\u001b[43m)\u001b[49m\n",
      "\u001b[36mFile \u001b[39m\u001b[32m~/devel/aimu/.venv/lib/python3.12/site-packages/pydantic/main.py:705\u001b[39m, in \u001b[36mBaseModel.model_validate\u001b[39m\u001b[34m(cls, obj, strict, from_attributes, context, by_alias, by_name)\u001b[39m\n\u001b[32m    699\u001b[39m \u001b[38;5;28;01mif\u001b[39;00m by_alias \u001b[38;5;129;01mis\u001b[39;00m \u001b[38;5;28;01mFalse\u001b[39;00m \u001b[38;5;129;01mand\u001b[39;00m by_name \u001b[38;5;129;01mis\u001b[39;00m \u001b[38;5;129;01mnot\u001b[39;00m \u001b[38;5;28;01mTrue\u001b[39;00m:\n\u001b[32m    700\u001b[39m     \u001b[38;5;28;01mraise\u001b[39;00m PydanticUserError(\n\u001b[32m    701\u001b[39m         \u001b[33m'\u001b[39m\u001b[33mAt least one of `by_alias` or `by_name` must be set to True.\u001b[39m\u001b[33m'\u001b[39m,\n\u001b[32m    702\u001b[39m         code=\u001b[33m'\u001b[39m\u001b[33mvalidate-by-alias-and-name-false\u001b[39m\u001b[33m'\u001b[39m,\n\u001b[32m    703\u001b[39m     )\n\u001b[32m--> \u001b[39m\u001b[32m705\u001b[39m \u001b[38;5;28;01mreturn\u001b[39;00m \u001b[38;5;28;43mcls\u001b[39;49m\u001b[43m.\u001b[49m\u001b[43m__pydantic_validator__\u001b[49m\u001b[43m.\u001b[49m\u001b[43mvalidate_python\u001b[49m\u001b[43m(\u001b[49m\n\u001b[32m    706\u001b[39m \u001b[43m    \u001b[49m\u001b[43mobj\u001b[49m\u001b[43m,\u001b[49m\u001b[43m \u001b[49m\u001b[43mstrict\u001b[49m\u001b[43m=\u001b[49m\u001b[43mstrict\u001b[49m\u001b[43m,\u001b[49m\u001b[43m \u001b[49m\u001b[43mfrom_attributes\u001b[49m\u001b[43m=\u001b[49m\u001b[43mfrom_attributes\u001b[49m\u001b[43m,\u001b[49m\u001b[43m \u001b[49m\u001b[43mcontext\u001b[49m\u001b[43m=\u001b[49m\u001b[43mcontext\u001b[49m\u001b[43m,\u001b[49m\u001b[43m \u001b[49m\u001b[43mby_alias\u001b[49m\u001b[43m=\u001b[49m\u001b[43mby_alias\u001b[49m\u001b[43m,\u001b[49m\u001b[43m \u001b[49m\u001b[43mby_name\u001b[49m\u001b[43m=\u001b[49m\u001b[43mby_name\u001b[49m\n\u001b[32m    707\u001b[39m \u001b[43m\u001b[49m\u001b[43m)\u001b[49m\n",
      "\u001b[31mValidationError\u001b[39m: 1 validation error for Message\ncontent\n  Input should be a valid string [type=string_type, input_value={'role': 'user', 'content': 'What time is it?'}, input_type=dict]\n    For further information visit https://errors.pydantic.dev/2.11/v/string_type"
     ]
    }
   ],
   "source": [
    "model_client.chat(\"What time is it?\", tools=mcp_client.get_tools())"
   ]
  },
  {
   "cell_type": "code",
   "execution_count": null,
   "id": "06caa0a6",
   "metadata": {},
   "outputs": [],
   "source": [
    "model_client.messages"
   ]
  },
  {
   "cell_type": "code",
   "execution_count": null,
   "id": "16a1bb9a",
   "metadata": {},
   "outputs": [],
   "source": [
    "response = model_client.chat_streamed(\"What time is it now?\", tools=mcp_client.get_tools())\n",
    "\n",
    "for chunk in response:\n",
    "    print(chunk, end=\"\", flush=True)"
   ]
  },
  {
   "cell_type": "code",
   "execution_count": null,
   "id": "28318c95",
   "metadata": {},
   "outputs": [],
   "source": [
    "model_client.messages"
   ]
  }
 ],
 "metadata": {
  "kernelspec": {
   "display_name": "aimu",
   "language": "python",
   "name": "python3"
  },
  "language_info": {
   "codemirror_mode": {
    "name": "ipython",
    "version": 3
   },
   "file_extension": ".py",
   "mimetype": "text/x-python",
   "name": "python",
   "nbconvert_exporter": "python",
   "pygments_lexer": "ipython3",
   "version": "3.12.9"
  }
 },
 "nbformat": 4,
 "nbformat_minor": 5
}
