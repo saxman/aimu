{
 "cells": [
  {
   "cell_type": "markdown",
   "id": "bb390ee5",
   "metadata": {},
   "source": [
    "# 01 - Model Client Usage\n",
    "\n",
    "Demonstrate various usage scenarion for Model Client."
   ]
  },
  {
   "cell_type": "markdown",
   "id": "02485f90",
   "metadata": {},
   "source": [
    "## A - Text Generation\n",
    "\n",
    "For most of these examples, the Qwen 3 model is used since it supports both reasoning/thinking and tool usage."
   ]
  },
  {
   "cell_type": "code",
   "execution_count": null,
   "id": "2c39eb7d",
   "metadata": {},
   "outputs": [],
   "source": [
    "from aimu.models import OllamaClient\n",
    "\n",
    "model_client = OllamaClient(OllamaClient.MODELS.QWEN_3_8B)\n",
    "print(model_client.model.name + \"\\n\" + model_client.model.value)"
   ]
  },
  {
   "cell_type": "markdown",
   "id": "72de5833",
   "metadata": {},
   "source": [
    "For non-interactive (chat-based) generation, the *generate* method is used. This method allows you to specify a prompt and receive a generated response."
   ]
  },
  {
   "cell_type": "code",
   "execution_count": null,
   "id": "cdc1c1b0",
   "metadata": {},
   "outputs": [],
   "source": [
    "model_client.generate(\"What is the capital of France?\")"
   ]
  },
  {
   "cell_type": "markdown",
   "id": "987e2976",
   "metadata": {},
   "source": [
    "Output can be streamed as well."
   ]
  },
  {
   "cell_type": "code",
   "execution_count": null,
   "id": "27240618",
   "metadata": {},
   "outputs": [],
   "source": [
    "response = model_client.generate_streamed(\"What is the capital of England?\")\n",
    "\n",
    "for response_part in response:\n",
    "    print(response_part, end=\"\", flush=True)"
   ]
  },
  {
   "cell_type": "markdown",
   "id": "dc4f603e",
   "metadata": {},
   "source": [
    "Parameters can be passed to the generate (and chat) methods to control the output. For thinking/reasoning models, max_tokens should be large enough to capture both the reasoning output, which happens first, and the generation output."
   ]
  },
  {
   "cell_type": "code",
   "execution_count": null,
   "id": "74ae7ee2",
   "metadata": {},
   "outputs": [],
   "source": [
    "# For generate_kwargs, see https://github.com/ollama/ollama/blob/main/docs/modelfile.md#valid-parameters-and-values\n",
    "\n",
    "model_client.generate(\n",
    "    \"What is the capital of Germany?\",\n",
    "    generate_kwargs={\n",
    "        \"temperature\": 0.1,\n",
    "        \"top_p\": 0.9,\n",
    "        \"top_k\": 40,\n",
    "        \"max_tokens\": 1024,\n",
    "        \"repeat_penalty\": 1.1,\n",
    "    },\n",
    ")"
   ]
  },
  {
   "cell_type": "markdown",
   "id": "7c905fa0",
   "metadata": {},
   "source": [
    "## B - Basic Chat\n",
    "\n",
    "Chatting with a model simply involves passing a message and receiving a response. The Model Client handles the conversation history automatically."
   ]
  },
  {
   "cell_type": "code",
   "execution_count": null,
   "id": "9225388a",
   "metadata": {},
   "outputs": [],
   "source": [
    "model_client.chat(\"Where is the Caribbean?\")"
   ]
  },
  {
   "cell_type": "markdown",
   "id": "a41a2c2a",
   "metadata": {},
   "source": [
    "As with the generate method, the model response can be streamed as well. Content isn't streamed until thinking/reasoning models have completed their reasoning step, so for these models, there's a delay before the content is starts streaming."
   ]
  },
  {
   "cell_type": "code",
   "execution_count": null,
   "id": "4a35dc13",
   "metadata": {},
   "outputs": [],
   "source": [
    "response = model_client.chat_streamed(\"Were there pirates there?\")\n",
    "\n",
    "for chunk in response:\n",
    "    print(chunk, end=\"\", flush=True)"
   ]
  },
  {
   "cell_type": "markdown",
   "id": "20dbfe75",
   "metadata": {},
   "source": [
    "The complete message history, including the model thinking/resoning, can be accessed via the `messages` property of the Model Client."
   ]
  },
  {
   "cell_type": "code",
   "execution_count": null,
   "id": "90596d15",
   "metadata": {},
   "outputs": [],
   "source": [
    "model_client.messages"
   ]
  },
  {
   "cell_type": "markdown",
   "id": "8e0d3ec7",
   "metadata": {},
   "source": [
    "A custom system message can be set, or re-set, as desired."
   ]
  },
  {
   "cell_type": "code",
   "execution_count": null,
   "id": "f7d06fcf",
   "metadata": {},
   "outputs": [],
   "source": [
    "model_client.system_message = \"You are a helpful assistant that responds using pirate speak.\"\n",
    "model_client.messages[0]"
   ]
  },
  {
   "cell_type": "code",
   "execution_count": null,
   "id": "984aeb19",
   "metadata": {},
   "outputs": [],
   "source": [
    "model_client.chat(\"Name a famous pirate from there.\")"
   ]
  },
  {
   "cell_type": "markdown",
   "id": "249c387f",
   "metadata": {},
   "source": [
    "## C - Tool Usage"
   ]
  },
  {
   "cell_type": "markdown",
   "id": "a169ffea",
   "metadata": {},
   "source": [
    "Create an MCP tool to use. See the \"02 - MCP Tools\" notebook for more examples of how to set up and use MCP tools."
   ]
  },
  {
   "cell_type": "code",
   "execution_count": null,
   "id": "1db377f8",
   "metadata": {},
   "outputs": [],
   "source": [
    "import datetime\n",
    "from fastmcp import FastMCP\n",
    "\n",
    "mcp = FastMCP(\"AIMU Tools\")\n",
    "\n",
    "\n",
    "@mcp.tool()\n",
    "def get_current_date_and_time() -> str:\n",
    "    \"\"\"Returns the current data and time as a string.\"\"\"\n",
    "    return str(datetime.datetime.now())"
   ]
  },
  {
   "cell_type": "markdown",
   "id": "774936a0",
   "metadata": {},
   "source": [
    "Create a new AIMU MCPClient for handling MCP tool requests."
   ]
  },
  {
   "cell_type": "code",
   "execution_count": null,
   "id": "1419d698",
   "metadata": {},
   "outputs": [],
   "source": [
    "from aimu.tools import MCPClient\n",
    "\n",
    "# Required to allow nested event loops in Jupyter notebooks\n",
    "import nest_asyncio\n",
    "\n",
    "nest_asyncio.apply()\n",
    "\n",
    "mcp_client = MCPClient(mcp)\n",
    "model_client.mcp_client = mcp_client"
   ]
  },
  {
   "cell_type": "code",
   "execution_count": null,
   "id": "54d17c31",
   "metadata": {},
   "outputs": [],
   "source": [
    "model_client.chat(\"What time is it?\")"
   ]
  },
  {
   "cell_type": "code",
   "execution_count": null,
   "id": "06caa0a6",
   "metadata": {},
   "outputs": [],
   "source": [
    "model_client.messages"
   ]
  },
  {
   "cell_type": "code",
   "execution_count": null,
   "id": "16a1bb9a",
   "metadata": {},
   "outputs": [],
   "source": [
    "response = model_client.chat_streamed(\"What time is it now?\")\n",
    "\n",
    "for chunk in response:\n",
    "    print(chunk, end=\"\", flush=True)"
   ]
  },
  {
   "cell_type": "code",
   "execution_count": null,
   "id": "28318c95",
   "metadata": {},
   "outputs": [],
   "source": [
    "model_client.messages"
   ]
  }
 ],
 "metadata": {
  "kernelspec": {
   "display_name": "aimu (3.12.9)",
   "language": "python",
   "name": "python3"
  },
  "language_info": {
   "codemirror_mode": {
    "name": "ipython",
    "version": 3
   },
   "file_extension": ".py",
   "mimetype": "text/x-python",
   "name": "python",
   "nbconvert_exporter": "python",
   "pygments_lexer": "ipython3",
   "version": "3.12.9"
  }
 },
 "nbformat": 4,
 "nbformat_minor": 5
}
