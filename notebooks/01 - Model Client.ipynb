{
 "cells": [
  {
   "cell_type": "markdown",
   "id": "bb390ee5",
   "metadata": {},
   "source": [
    "# 01 - Model Client Usage"
   ]
  },
  {
   "cell_type": "code",
   "execution_count": null,
   "id": "2c39eb7d",
   "metadata": {},
   "outputs": [],
   "source": [
    "from aimu.models import OllamaClient\n",
    "\n",
    "model_client = OllamaClient(OllamaClient.MODEL_QWEN_3_8B)\n",
    "model_client.model_id"
   ]
  },
  {
   "cell_type": "code",
   "execution_count": null,
   "id": "cdc1c1b0",
   "metadata": {},
   "outputs": [],
   "source": [
    "model_client.generate(\"What is the capital of France?\")"
   ]
  },
  {
   "cell_type": "code",
   "execution_count": null,
   "id": "74ae7ee2",
   "metadata": {},
   "outputs": [],
   "source": [
    "# For generate_kwargs, see https://github.com/ollama/ollama/blob/main/docs/modelfile.md#valid-parameters-and-values\n",
    "\n",
    "model_client.generate(\n",
    "    \"What is the capital of France?\",\n",
    "    generate_kwargs={\n",
    "        \"temperature\": 1.0,\n",
    "        \"top_p\": 0.9,\n",
    "        \"top_k\": 40,\n",
    "        \"max_tokens\": 1024,\n",
    "        \"repeat_penalty\": 1.1,\n",
    "    },\n",
    ")"
   ]
  },
  {
   "cell_type": "code",
   "execution_count": null,
   "id": "2d01e663",
   "metadata": {},
   "outputs": [],
   "source": [
    "response = model_client.generate_streamed(\n",
    "    \"What are the lyrics of La Marseillaise in English? First verse. No commentary.\",\n",
    "    generate_kwargs={\n",
    "        \"temperature\": 0.1,\n",
    "        \"top_p\": 0.9,\n",
    "        \"top_k\": 40,\n",
    "        \"max_tokens\": 1024,\n",
    "        \"repeat_penalty\": 1.1,\n",
    "    },\n",
    ")\n",
    "\n",
    "for chunk in response:\n",
    "    print(chunk, end=\"\", flush=True)"
   ]
  },
  {
   "cell_type": "code",
   "execution_count": null,
   "id": "9225388a",
   "metadata": {},
   "outputs": [],
   "source": [
    "model_client.chat(\n",
    "    {\n",
    "        \"role\": model_client.system_role,\n",
    "        \"content\": \"You are a helpful assistant that answers questions using pirate speak.\",\n",
    "    }\n",
    ")"
   ]
  },
  {
   "cell_type": "code",
   "execution_count": null,
   "id": "4a35dc13",
   "metadata": {},
   "outputs": [],
   "source": [
    "response = model_client.chat_streamed({\"role\": \"user\", \"content\": \"What is the capital of France?\"})\n",
    "\n",
    "for chunk in response:\n",
    "    print(chunk, end=\"\", flush=True)"
   ]
  },
  {
   "cell_type": "code",
   "execution_count": null,
   "id": "2c10910c",
   "metadata": {},
   "outputs": [],
   "source": [
    "model_client.messages"
   ]
  },
  {
   "cell_type": "markdown",
   "id": "249c387f",
   "metadata": {},
   "source": [
    "## Tool Usage"
   ]
  },
  {
   "cell_type": "code",
   "execution_count": null,
   "id": "1db377f8",
   "metadata": {},
   "outputs": [],
   "source": [
    "import datetime\n",
    "from fastmcp import FastMCP\n",
    "\n",
    "mcp = FastMCP(\"AIMU Tools\")\n",
    "\n",
    "@mcp.tool()\n",
    "def get_current_date_and_time() -> str:\n",
    "    \"\"\"Returns the current data and time as a string.\"\"\"\n",
    "    return datetime.datetime.now()"
   ]
  },
  {
   "cell_type": "code",
   "execution_count": null,
   "id": "1419d698",
   "metadata": {},
   "outputs": [],
   "source": [
    "from aimu.tools import MCPClient\n",
    "\n",
    "# Required to allow nested event loops in Jupyter notebooks\n",
    "import nest_asyncio\n",
    "\n",
    "nest_asyncio.apply()\n",
    "\n",
    "mcp_client = MCPClient(mcp)"
   ]
  },
  {
   "cell_type": "code",
   "execution_count": null,
   "id": "54d17c31",
   "metadata": {},
   "outputs": [],
   "source": [
    "model_client.mcp_client = mcp_client\n",
    "model_client.chat({\"role\": \"user\", \"content\": \"What time is it?\"}, tools=mcp_client.get_tools())"
   ]
  },
  {
   "cell_type": "code",
   "execution_count": null,
   "id": "06caa0a6",
   "metadata": {},
   "outputs": [],
   "source": [
    "model_client.messages"
   ]
  },
  {
   "cell_type": "code",
   "execution_count": null,
   "id": "16a1bb9a",
   "metadata": {},
   "outputs": [],
   "source": [
    "model_client.mcp_client = mcp_client\n",
    "model_client.chat_streamed({\"role\": \"user\", \"content\": \"What time is it?\"}, tools=mcp_client.get_tools())\n",
    "\n",
    "for chunk in response:\n",
    "    print(chunk, end=\"\", flush=True)"
   ]
  },
  {
   "cell_type": "code",
   "execution_count": null,
   "id": "28318c95",
   "metadata": {},
   "outputs": [],
   "source": [
    "model_client.messages"
   ]
  }
 ],
 "metadata": {
  "kernelspec": {
   "display_name": "aimu",
   "language": "python",
   "name": "python3"
  },
  "language_info": {
   "codemirror_mode": {
    "name": "ipython",
    "version": 3
   },
   "file_extension": ".py",
   "mimetype": "text/x-python",
   "name": "python",
   "nbconvert_exporter": "python",
   "pygments_lexer": "ipython3",
   "version": "3.12.3"
  }
 },
 "nbformat": 4,
 "nbformat_minor": 5
}
