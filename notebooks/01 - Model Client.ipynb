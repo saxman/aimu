{
 "cells": [
  {
   "cell_type": "code",
   "execution_count": null,
   "id": "2c39eb7d",
   "metadata": {},
   "outputs": [],
   "source": [
    "from aimu.models import OllamaClient\n",
    "\n",
    "model_client = OllamaClient(OllamaClient.MODEL_LLAMA_3_1_8B)\n",
    "model_client.model_id"
   ]
  },
  {
   "cell_type": "code",
   "execution_count": null,
   "id": "cdc1c1b0",
   "metadata": {},
   "outputs": [],
   "source": [
    "model_client.generate(\"What is the capital of France?\")"
   ]
  },
  {
   "cell_type": "code",
   "execution_count": null,
   "id": "74ae7ee2",
   "metadata": {},
   "outputs": [],
   "source": [
    "# For generate_kwargs, see https://github.com/ollama/ollama/blob/main/docs/modelfile.md#valid-parameters-and-values\n",
    "\n",
    "model_client.generate(\n",
    "    \"How do you say 'it's a beautuiful day' in French?\",\n",
    "    generate_kwargs={\n",
    "        \"temperature\": 1.0,\n",
    "        \"top_p\": 0.9,\n",
    "        \"top_k\": 40,\n",
    "        \"max_tokens\": 64,\n",
    "        \"repeat_penalty\": 1.1,\n",
    "    },\n",
    ")"
   ]
  },
  {
   "cell_type": "code",
   "execution_count": null,
   "id": "2d01e663",
   "metadata": {},
   "outputs": [],
   "source": [
    "response = model_client.generate_streamed(\n",
    "    \"What are the lyrics of La Marseillaise in English? First verse. No commentary.\",\n",
    "    generate_kwargs={\n",
    "        \"temperature\": 0.1,\n",
    "        \"top_p\": 0.9,\n",
    "        \"top_k\": 40,\n",
    "        \"max_tokens\": 1024,\n",
    "        \"repeat_penalty\": 1.1,\n",
    "    },\n",
    ")\n",
    "\n",
    "for chunk in response:\n",
    "    print(chunk, end=\"\", flush=True)"
   ]
  },
  {
   "cell_type": "code",
   "execution_count": null,
   "id": "9225388a",
   "metadata": {},
   "outputs": [],
   "source": [
    "model_client.chat(\n",
    "    {\n",
    "        \"role\": model_client.system_role,\n",
    "        \"content\": \"You are a helpful assistant that answers questions using pirate speak.\",\n",
    "    }\n",
    ")"
   ]
  },
  {
   "cell_type": "code",
   "execution_count": null,
   "id": "4a35dc13",
   "metadata": {},
   "outputs": [],
   "source": [
    "model_client.chat({\"role\": \"user\", \"content\": \"What is the capital of France?\"})"
   ]
  },
  {
   "cell_type": "code",
   "execution_count": null,
   "id": "2c10910c",
   "metadata": {},
   "outputs": [],
   "source": [
    "model_client.messages"
   ]
  }
 ],
 "metadata": {
  "kernelspec": {
   "display_name": ".venv",
   "language": "python",
   "name": "python3"
  },
  "language_info": {
   "codemirror_mode": {
    "name": "ipython",
    "version": 3
   },
   "file_extension": ".py",
   "mimetype": "text/x-python",
   "name": "python",
   "nbconvert_exporter": "python",
   "pygments_lexer": "ipython3",
   "version": "3.12.9"
  }
 },
 "nbformat": 4,
 "nbformat_minor": 5
}
